{
 "cells": [
  {
   "cell_type": "code",
   "execution_count": 1,
   "id": "715ae27e-be0b-498b-ba23-a81513008bba",
   "metadata": {},
   "outputs": [],
   "source": [
    "import xarray as xr\n",
    "import numpy as np\n",
    "import pandas as pd\n",
    "import matplotlib.pyplot as plt"
   ]
  },
  {
   "cell_type": "code",
   "execution_count": 4,
   "id": "55926e2b-88d8-4267-a80d-7ebdc7db7da2",
   "metadata": {},
   "outputs": [],
   "source": [
    "# Open dataset with cfgrib\n",
    "dat = xr.open_dataset('ERA5/t_2000-2018.nc')\n",
    "\n",
    "T = dat['t'].sel(latitude=slice(70,60)).mean(dim='longitude').mean(dim='latitude')"
   ]
  },
  {
   "cell_type": "code",
   "execution_count": 5,
   "id": "29d398d3-e2b2-46ac-a39a-3be93d44f1ea",
   "metadata": {},
   "outputs": [],
   "source": [
    "\n",
    "T.to_netcdf('ERA5/T_dt'+str(70))\n"
   ]
  }
 ],
 "metadata": {
  "kernelspec": {
   "display_name": ".venv",
   "language": "python",
   "name": "python3"
  },
  "language_info": {
   "codemirror_mode": {
    "name": "ipython",
    "version": 3
   },
   "file_extension": ".py",
   "mimetype": "text/x-python",
   "name": "python",
   "nbconvert_exporter": "python",
   "pygments_lexer": "ipython3",
   "version": "3.9.21"
  }
 },
 "nbformat": 4,
 "nbformat_minor": 5
}
