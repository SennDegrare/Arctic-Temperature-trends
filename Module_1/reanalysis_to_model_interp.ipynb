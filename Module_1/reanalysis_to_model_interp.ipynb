{
 "cells": [
  {
   "cell_type": "code",
   "execution_count": 1,
   "id": "826901db-3976-4453-b53e-3c6dbe05ee20",
   "metadata": {},
   "outputs": [],
   "source": [
    "import xarray as xr\n",
    "import numpy as np\n",
    "import pandas as pd\n",
    "import matplotlib.pyplot as plt\n",
    "from scipy.interpolate import interp1d"
   ]
  },
  {
   "cell_type": "code",
   "execution_count": 14,
   "id": "fae27eb5-daa7-48eb-936f-095979dbd90f",
   "metadata": {},
   "outputs": [],
   "source": [
    "H = []\n",
    "# T0 = []\n",
    "for i in range(3):\n",
    "    H.append(xr.open_dataset('ERA5/htrlwcs'+str(90-10*i))['avg_ttlwrcs'])\n",
    "    # T0.append(T[i][0].data)"
   ]
  },
  {
   "cell_type": "code",
   "execution_count": 15,
   "id": "6d5f315b",
   "metadata": {},
   "outputs": [
    {
     "data": {
      "text/plain": [
       "120"
      ]
     },
     "execution_count": 15,
     "metadata": {},
     "output_type": "execute_result"
    }
   ],
   "source": [
    "H[0].shape[0]"
   ]
  },
  {
   "cell_type": "code",
   "execution_count": 16,
   "id": "f8cde120-307b-4c26-bef0-bb446357fa2b",
   "metadata": {},
   "outputs": [],
   "source": [
    "dat = xr.open_dataset('ERA5/t_2000-2018.nc')\n",
    "tfs = pd.read_csv('model_to_p.csv')"
   ]
  },
  {
   "cell_type": "code",
   "execution_count": 17,
   "id": "89f87a51-bc7e-4fa7-8207-f545cb36d8fe",
   "metadata": {},
   "outputs": [],
   "source": [
    "# Load data\n",
    "\n",
    "# Target pressure levels (standard pressure levels)\n",
    "p_target = dat.level.data  # shape (n_levels,)\n",
    "\n",
    "# Source pressure levels for model levels (from CSV)\n",
    "pm = tfs['P'].values  # shape (model_levels,)\n",
    "\n",
    "# H[0] — heating rate: shape (time, model_level)\n",
    "# H0 = dat.t.data  # shape: (time, model_level)\n",
    "for i in range(3):\n",
    "        \n",
    "    # Output container\n",
    "    H_interp = np.empty((H[i].shape[0], len(p_target)))  # (time, new_levels)\n",
    "\n",
    "    # Interpolate each time step\n",
    "    for t in range(H[i].shape[0]):\n",
    "        f = interp1d(pm, H[i][t, :], bounds_error=False, fill_value='extrapolate')\n",
    "        H_interp[t, :] = f(p_target)\n",
    "\n",
    "    # Wrap in DataArray\n",
    "    H_interp_da = xr.DataArray(\n",
    "        H_interp,\n",
    "        dims=['time', 'level'],\n",
    "        coords={'time': H[i]['valid_time'].data, 'level': p_target},\n",
    "        name='avg_ttlwrcs'\n",
    "    )\n",
    "    H_interp_da.to_netcdf('ERA5/htrlwcs_inp'+str(90-10*i)+'.nc')\n"
   ]
  }
 ],
 "metadata": {
  "kernelspec": {
   "display_name": "Python 3",
   "language": "python",
   "name": "python3"
  },
  "language_info": {
   "codemirror_mode": {
    "name": "ipython",
    "version": 3
   },
   "file_extension": ".py",
   "mimetype": "text/x-python",
   "name": "python",
   "nbconvert_exporter": "python",
   "pygments_lexer": "ipython3",
   "version": "3.9.21"
  }
 },
 "nbformat": 4,
 "nbformat_minor": 5
}
